{
  "nbformat": 4,
  "nbformat_minor": 0,
  "metadata": {
    "colab": {
      "provenance": []
    },
    "kernelspec": {
      "name": "python3",
      "display_name": "Python 3"
    },
    "language_info": {
      "name": "python"
    }
  },
  "cells": [
    {
      "cell_type": "code",
      "execution_count": null,
      "metadata": {
        "id": "QhVj1XMoM3PG"
      },
      "outputs": [],
      "source": []
    },
    {
      "cell_type": "code",
      "execution_count": null,
      "metadata": {
        "id": "0a0c180e"
      },
      "outputs": [],
      "source": [
        "import pandas as pd\n",
        "import matplotlib.pyplot as plt\n",
        "import numpy as np\n",
        "\n",
        "from sklearn.ensemble import GradientBoostingRegressor\n",
        "from sklearn.impute import SimpleImputer\n",
        "from sklearn.compose import ColumnTransformer\n",
        "from sklearn.preprocessing import OneHotEncoder\n",
        "from sklearn.ensemble import HistGradientBoostingRegressor\n",
        "from sklearn.ensemble import VotingRegressor\n",
        "\n",
        "from sklearn.model_selection import GridSearchCV, ParameterGrid\n",
        "from sklearn.linear_model import Ridge\n",
        "from sklearn.metrics import mean_squared_error\n",
        "from functools import partial\n",
        "rmse = partial(mean_squared_error, squared=False)\n",
        "\n",
        "from sklearn.pipeline import Pipeline, make_pipeline\n",
        "from sklearn.preprocessing import StandardScaler\n",
        "from sklearn.preprocessing import PolynomialFeatures\n",
        "\n",
        "##import the necessory libraries from sklearn.linear model import LinearRegression and model\n",
        "from sklearn.linear_model import LinearRegression , Lasso\n",
        "from sklearn import metrics\n",
        "\n",
        "#importing mean absolute error\n",
        "from sklearn.metrics import mean_absolute_error\n",
        "from sklearn.compose import ColumnTransformer\n",
        "\n",
        "import seaborn as sns\n",
        "sns.set(\n",
        "  { \"figure.figsize\": (6, 4) },\n",
        "      style='ticks',\n",
        "      color_codes=True,\n",
        "      font_scale=0.8\n",
        "  )\n",
        "%config InlineBackend.figure_formats = set(('retina', 'svg'))"
      ]
    },
    {
      "cell_type": "markdown",
      "metadata": {
        "id": "b742f7e3"
      },
      "source": [
        "### Reading dataset"
      ]
    },
    {
      "cell_type": "code",
      "source": [
        "from google.colab import drive\n",
        "drive.mount('drive')"
      ],
      "metadata": {
        "colab": {
          "base_uri": "https://localhost:8080/"
        },
        "id": "YB1VlRH7_mGI",
        "outputId": "f9c9d1a3-b80c-4f6b-b2e0-0720511844ae"
      },
      "execution_count": null,
      "outputs": [
        {
          "output_type": "stream",
          "name": "stdout",
          "text": [
            "Drive already mounted at drive; to attempt to forcibly remount, call drive.mount(\"drive\", force_remount=True).\n"
          ]
        }
      ]
    },
    {
      "cell_type": "code",
      "execution_count": null,
      "metadata": {
        "id": "37a9994c"
      },
      "outputs": [],
      "source": [
        "path = '/content/drive/MyDrive/MMU/Adv ML/adverts.csv'\n",
        "adv_df = pd.read_csv(path)"
      ]
    },
    {
      "cell_type": "code",
      "execution_count": null,
      "metadata": {
        "colab": {
          "base_uri": "https://localhost:8080/"
        },
        "id": "3cdcf503",
        "outputId": "a77edcc4-3087-4069-bfd2-8f97a347bc02"
      },
      "outputs": [
        {
          "output_type": "execute_result",
          "data": {
            "text/plain": [
              "(402005, 12)"
            ]
          },
          "metadata": {},
          "execution_count": 220
        }
      ],
      "source": [
        "adv_df.shape"
      ]
    }
  ]
}