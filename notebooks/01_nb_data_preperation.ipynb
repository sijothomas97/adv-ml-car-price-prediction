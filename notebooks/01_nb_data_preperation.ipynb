{
  "nbformat": 4,
  "nbformat_minor": 0,
  "metadata": {
    "colab": {
      "provenance": []
    },
    "kernelspec": {
      "name": "python3",
      "display_name": "Python 3"
    },
    "language_info": {
      "name": "python"
    }
  },
  "cells": [
    {
      "cell_type": "markdown",
      "metadata": {
        "id": "b742f7e3"
      },
      "source": [
        "### Reading dataset"
      ]
    },
    {
      "cell_type": "code",
      "source": [
        "from google.colab import drive\n",
        "drive.mount('drive')"
      ],
      "metadata": {
        "colab": {
          "base_uri": "https://localhost:8080/"
        },
        "id": "YB1VlRH7_mGI",
        "outputId": "f9c9d1a3-b80c-4f6b-b2e0-0720511844ae"
      },
      "execution_count": null,
      "outputs": [
        {
          "output_type": "stream",
          "name": "stdout",
          "text": [
            "Drive already mounted at drive; to attempt to forcibly remount, call drive.mount(\"drive\", force_remount=True).\n"
          ]
        }
      ]
    },
    {
      "cell_type": "code",
      "execution_count": null,
      "metadata": {
        "id": "37a9994c"
      },
      "outputs": [],
      "source": [
        "path = '/content/drive/MyDrive/MMU/Adv ML/adverts.csv'\n",
        "adv_df = pd.read_csv(path)"
      ]
    },
    {
      "cell_type": "code",
      "execution_count": null,
      "metadata": {
        "colab": {
          "base_uri": "https://localhost:8080/"
        },
        "id": "3cdcf503",
        "outputId": "a77edcc4-3087-4069-bfd2-8f97a347bc02"
      },
      "outputs": [
        {
          "output_type": "execute_result",
          "data": {
            "text/plain": [
              "(402005, 12)"
            ]
          },
          "metadata": {},
          "execution_count": 220
        }
      ],
      "source": [
        "adv_df.shape"
      ]
    },
    {
      "cell_type": "markdown",
      "metadata": {
        "id": "f6a26ed9"
      },
      "source": [
        "### Taking subset of dataset"
      ]
    },
    {
      "cell_type": "code",
      "execution_count": null,
      "metadata": {
        "id": "a9b1d11c"
      },
      "outputs": [],
      "source": [
        "sample_df = adv_df.sample(40000)"
      ]
    },
    {
      "cell_type": "code",
      "execution_count": null,
      "metadata": {
        "colab": {
          "base_uri": "https://localhost:8080/"
        },
        "id": "c07af8c0",
        "outputId": "b90b3981-b8b9-4820-b34f-e3ce1fa1abd2"
      },
      "outputs": [
        {
          "output_type": "execute_result",
          "data": {
            "text/plain": [
              "(40000, 12)"
            ]
          },
          "metadata": {},
          "execution_count": 222
        }
      ],
      "source": [
        "sample_df.shape"
      ]
    },
    {
      "cell_type": "code",
      "execution_count": null,
      "metadata": {
        "colab": {
          "base_uri": "https://localhost:8080/"
        },
        "id": "71d4bb66",
        "outputId": "2895e898-ec1f-40a2-c255-9cf7720a369b"
      },
      "outputs": [
        {
          "output_type": "stream",
          "name": "stdout",
          "text": [
            "<class 'pandas.core.frame.DataFrame'>\n",
            "Int64Index: 40000 entries, 205731 to 35947\n",
            "Data columns (total 12 columns):\n",
            " #   Column                 Non-Null Count  Dtype  \n",
            "---  ------                 --------------  -----  \n",
            " 0   public_reference       40000 non-null  int64  \n",
            " 1   mileage                39983 non-null  float64\n",
            " 2   reg_code               36797 non-null  object \n",
            " 3   standard_colour        39449 non-null  object \n",
            " 4   standard_make          40000 non-null  object \n",
            " 5   standard_model         40000 non-null  object \n",
            " 6   vehicle_condition      40000 non-null  object \n",
            " 7   year_of_registration   36656 non-null  float64\n",
            " 8   price                  40000 non-null  int64  \n",
            " 9   body_type              39938 non-null  object \n",
            " 10  crossover_car_and_van  40000 non-null  bool   \n",
            " 11  fuel_type              39946 non-null  object \n",
            "dtypes: bool(1), float64(2), int64(2), object(7)\n",
            "memory usage: 3.7+ MB\n"
          ]
        }
      ],
      "source": [
        "sample_df.info()"
      ]
    },
    {
      "cell_type": "code",
      "execution_count": null,
      "metadata": {
        "id": "ac23a25d"
      },
      "outputs": [],
      "source": [
        "# I am setting the column 'public_reference' as row index of the dataset.\n",
        "sample_df.set_index('public_reference', inplace=True)"
      ]
    },
    {
      "cell_type": "markdown",
      "metadata": {
        "id": "68ff876f"
      },
      "source": [
        "    From the dataset the column public_reference can be used as index column so I have replaced current index column with\n",
        "    public_reference."
      ]
    },
    {
      "cell_type": "code",
      "execution_count": null,
      "metadata": {
        "id": "QhVj1XMoM3PG"
      },
      "outputs": [],
      "source": []
    }
  ]
}