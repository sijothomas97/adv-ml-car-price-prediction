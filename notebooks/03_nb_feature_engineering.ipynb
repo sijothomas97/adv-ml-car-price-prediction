{
  "nbformat": 4,
  "nbformat_minor": 0,
  "metadata": {
    "colab": {
      "provenance": []
    },
    "kernelspec": {
      "name": "python3",
      "display_name": "Python 3"
    },
    "language_info": {
      "name": "python"
    }
  },
  "cells": [
    {
      "cell_type": "markdown",
      "source": [
        "## 2. Feature Engineering"
      ],
      "metadata": {
        "id": "-QJfdEjhGYec"
      }
    },
    {
      "cell_type": "code",
      "source": [
        "# Adding new feature age by subtracting current year from year of registration.\n",
        "sample_df['age'] = 2023 - sample_df['year_of_registration']\n",
        "# Deleting feature year of registration\n",
        "sample_df = sample_df.drop(columns=['year_of_registration'])\n",
        "# Display a sample to see new feature age\n",
        "sample_df['age'].sample()"
      ],
      "metadata": {
        "colab": {
          "base_uri": "https://localhost:8080/"
        },
        "id": "ckWkDSy3GitR",
        "outputId": "a94ccb64-1130-4415-8dde-a7ad10ff9972"
      },
      "execution_count": null,
      "outputs": [
        {
          "output_type": "execute_result",
          "data": {
            "text/plain": [
              "public_reference\n",
              "202009033252341    62\n",
              "Name: age, dtype: int64"
            ]
          },
          "metadata": {},
          "execution_count": 261
        }
      ]
    },
    {
      "cell_type": "markdown",
      "source": [
        "Here, I've defined a brand-new attribute called age, which is determined by deducting the current year from the year the vehicle was registered."
      ],
      "metadata": {
        "id": "ACZOTHm277Wq"
      }
    },
    {
      "cell_type": "code",
      "source": [
        "X = sample_df.drop(columns='price')\n",
        "y = sample_df['price']\n",
        "\n",
        "X_train, X_test, y_train, y_test = train_test_split(X, y, test_size=0.25, random_state=42)\n",
        "X_train.shape, y_train.shape"
      ],
      "metadata": {
        "colab": {
          "base_uri": "https://localhost:8080/"
        },
        "id": "IR-pcfFxX-XE",
        "outputId": "5655ad62-d5fa-477e-97e4-7b5929e41bef"
      },
      "execution_count": null,
      "outputs": [
        {
          "output_type": "execute_result",
          "data": {
            "text/plain": [
              "((27253, 14), (27253,))"
            ]
          },
          "metadata": {},
          "execution_count": 262
        }
      ]
    },
    {
      "cell_type": "markdown",
      "source": [
        "As I added a new feature I am again splitting dataset into predictors and targets so that the new feature will be included for further process."
      ],
      "metadata": {
        "id": "RNqDEBpSYCK2"
      }
    },
    {
      "cell_type": "markdown",
      "source": [
        "### Polynomial/bias function and interaction features"
      ],
      "metadata": {
        "id": "Wt38p0ZFKodH"
      }
    },
    {
      "cell_type": "markdown",
      "source": [
        "To fit and modify the data, a polynomial transformer is used. Combining these features raised to various powers will produce new features as part of the PolynomialFeatures transformer. It essentially widens the feature space, enabling the model to learn more intricate patterns and thus enhancing its predictive power. A characteristic of interaction is represented by each column.\n",
        "\n"
      ],
      "metadata": {
        "id": "M6Y8W1cfadKl"
      }
    },
    {
      "cell_type": "code",
      "source": [
        "preprocessing_pipe = Pipeline(\n",
        "    steps=[\n",
        "        ('scaler', StandardScaler()),\n",
        "        ('poly', PolynomialFeatures(interaction_only=True, include_bias=False))\n",
        "    ]\n",
        ").set_output(transform='pandas')\n",
        "\n",
        "preprocessing_pipe.fit_transform(X_train).sample()"
      ],
      "metadata": {
        "colab": {
          "base_uri": "https://localhost:8080/",
          "height": 223
        },
        "id": "BzXP43hGHfC5",
        "outputId": "bd98e07f-71b3-4561-f7d1-5c3318795db4"
      },
      "execution_count": null,
      "outputs": [
        {
          "output_type": "execute_result",
          "data": {
            "text/plain": [
              "                   mileage  reg_code  standard_colour  standard_make  \\\n",
              "public_reference                                                       \n",
              "202010155030829  -1.210036  1.127393        -1.176887       0.228509   \n",
              "\n",
              "                  standard_model  vehicle_condition  body_type  \\\n",
              "public_reference                                                 \n",
              "202010155030829         0.198831            3.88922   1.196605   \n",
              "\n",
              "                  crossover_car_and_van  fuel_type_diesel  fuel_type_electric  \\\n",
              "public_reference                                                                \n",
              "202010155030829               -0.053575         -0.803872           -0.100777   \n",
              "\n",
              "                  ...  fuel_type_electric fuel_type_petrol  \\\n",
              "public_reference  ...                                        \n",
              "202010155030829   ...                            -0.091212   \n",
              "\n",
              "                  fuel_type_electric fuel_type_petrol_hybrid  \\\n",
              "public_reference                                               \n",
              "202010155030829                                      0.01889   \n",
              "\n",
              "                  fuel_type_electric fuel_type_petrol_plug_in_hybrid  \\\n",
              "public_reference                                                       \n",
              "202010155030829                                            0.010845    \n",
              "\n",
              "                  fuel_type_electric age  \\\n",
              "public_reference                           \n",
              "202010155030829                 0.113251   \n",
              "\n",
              "                  fuel_type_petrol fuel_type_petrol_hybrid  \\\n",
              "public_reference                                             \n",
              "202010155030829                                  -0.169648   \n",
              "\n",
              "                  fuel_type_petrol fuel_type_petrol_plug_in_hybrid  \\\n",
              "public_reference                                                     \n",
              "202010155030829                                            -0.0974   \n",
              "\n",
              "                  fuel_type_petrol age  \\\n",
              "public_reference                         \n",
              "202010155030829              -1.017111   \n",
              "\n",
              "                  fuel_type_petrol_hybrid fuel_type_petrol_plug_in_hybrid  \\\n",
              "public_reference                                                            \n",
              "202010155030829                                            0.020171         \n",
              "\n",
              "                  fuel_type_petrol_hybrid age  \\\n",
              "public_reference                                \n",
              "202010155030829                      0.210641   \n",
              "\n",
              "                  fuel_type_petrol_plug_in_hybrid age  \n",
              "public_reference                                       \n",
              "202010155030829                              0.120935  \n",
              "\n",
              "[1 rows x 105 columns]"
            ],
            "text/html": [
              "\n",
              "  <div id=\"df-43f7def0-2dff-45a6-ae85-4eef231bd995\">\n",
              "    <div class=\"colab-df-container\">\n",
              "      <div>\n",
              "<style scoped>\n",
              "    .dataframe tbody tr th:only-of-type {\n",
              "        vertical-align: middle;\n",
              "    }\n",
              "\n",
              "    .dataframe tbody tr th {\n",
              "        vertical-align: top;\n",
              "    }\n",
              "\n",
              "    .dataframe thead th {\n",
              "        text-align: right;\n",
              "    }\n",
              "</style>\n",
              "<table border=\"1\" class=\"dataframe\">\n",
              "  <thead>\n",
              "    <tr style=\"text-align: right;\">\n",
              "      <th></th>\n",
              "      <th>mileage</th>\n",
              "      <th>reg_code</th>\n",
              "      <th>standard_colour</th>\n",
              "      <th>standard_make</th>\n",
              "      <th>standard_model</th>\n",
              "      <th>vehicle_condition</th>\n",
              "      <th>body_type</th>\n",
              "      <th>crossover_car_and_van</th>\n",
              "      <th>fuel_type_diesel</th>\n",
              "      <th>fuel_type_electric</th>\n",
              "      <th>...</th>\n",
              "      <th>fuel_type_electric fuel_type_petrol</th>\n",
              "      <th>fuel_type_electric fuel_type_petrol_hybrid</th>\n",
              "      <th>fuel_type_electric fuel_type_petrol_plug_in_hybrid</th>\n",
              "      <th>fuel_type_electric age</th>\n",
              "      <th>fuel_type_petrol fuel_type_petrol_hybrid</th>\n",
              "      <th>fuel_type_petrol fuel_type_petrol_plug_in_hybrid</th>\n",
              "      <th>fuel_type_petrol age</th>\n",
              "      <th>fuel_type_petrol_hybrid fuel_type_petrol_plug_in_hybrid</th>\n",
              "      <th>fuel_type_petrol_hybrid age</th>\n",
              "      <th>fuel_type_petrol_plug_in_hybrid age</th>\n",
              "    </tr>\n",
              "    <tr>\n",
              "      <th>public_reference</th>\n",
              "      <th></th>\n",
              "      <th></th>\n",
              "      <th></th>\n",
              "      <th></th>\n",
              "      <th></th>\n",
              "      <th></th>\n",
              "      <th></th>\n",
              "      <th></th>\n",
              "      <th></th>\n",
              "      <th></th>\n",
              "      <th></th>\n",
              "      <th></th>\n",
              "      <th></th>\n",
              "      <th></th>\n",
              "      <th></th>\n",
              "      <th></th>\n",
              "      <th></th>\n",
              "      <th></th>\n",
              "      <th></th>\n",
              "      <th></th>\n",
              "      <th></th>\n",
              "    </tr>\n",
              "  </thead>\n",
              "  <tbody>\n",
              "    <tr>\n",
              "      <th>202010155030829</th>\n",
              "      <td>-1.210036</td>\n",
              "      <td>1.127393</td>\n",
              "      <td>-1.176887</td>\n",
              "      <td>0.228509</td>\n",
              "      <td>0.198831</td>\n",
              "      <td>3.88922</td>\n",
              "      <td>1.196605</td>\n",
              "      <td>-0.053575</td>\n",
              "      <td>-0.803872</td>\n",
              "      <td>-0.100777</td>\n",
              "      <td>...</td>\n",
              "      <td>-0.091212</td>\n",
              "      <td>0.01889</td>\n",
              "      <td>0.010845</td>\n",
              "      <td>0.113251</td>\n",
              "      <td>-0.169648</td>\n",
              "      <td>-0.0974</td>\n",
              "      <td>-1.017111</td>\n",
              "      <td>0.020171</td>\n",
              "      <td>0.210641</td>\n",
              "      <td>0.120935</td>\n",
              "    </tr>\n",
              "  </tbody>\n",
              "</table>\n",
              "<p>1 rows × 105 columns</p>\n",
              "</div>\n",
              "      <button class=\"colab-df-convert\" onclick=\"convertToInteractive('df-43f7def0-2dff-45a6-ae85-4eef231bd995')\"\n",
              "              title=\"Convert this dataframe to an interactive table.\"\n",
              "              style=\"display:none;\">\n",
              "        \n",
              "  <svg xmlns=\"http://www.w3.org/2000/svg\" height=\"24px\"viewBox=\"0 0 24 24\"\n",
              "       width=\"24px\">\n",
              "    <path d=\"M0 0h24v24H0V0z\" fill=\"none\"/>\n",
              "    <path d=\"M18.56 5.44l.94 2.06.94-2.06 2.06-.94-2.06-.94-.94-2.06-.94 2.06-2.06.94zm-11 1L8.5 8.5l.94-2.06 2.06-.94-2.06-.94L8.5 2.5l-.94 2.06-2.06.94zm10 10l.94 2.06.94-2.06 2.06-.94-2.06-.94-.94-2.06-.94 2.06-2.06.94z\"/><path d=\"M17.41 7.96l-1.37-1.37c-.4-.4-.92-.59-1.43-.59-.52 0-1.04.2-1.43.59L10.3 9.45l-7.72 7.72c-.78.78-.78 2.05 0 2.83L4 21.41c.39.39.9.59 1.41.59.51 0 1.02-.2 1.41-.59l7.78-7.78 2.81-2.81c.8-.78.8-2.07 0-2.86zM5.41 20L4 18.59l7.72-7.72 1.47 1.35L5.41 20z\"/>\n",
              "  </svg>\n",
              "      </button>\n",
              "      \n",
              "  <style>\n",
              "    .colab-df-container {\n",
              "      display:flex;\n",
              "      flex-wrap:wrap;\n",
              "      gap: 12px;\n",
              "    }\n",
              "\n",
              "    .colab-df-convert {\n",
              "      background-color: #E8F0FE;\n",
              "      border: none;\n",
              "      border-radius: 50%;\n",
              "      cursor: pointer;\n",
              "      display: none;\n",
              "      fill: #1967D2;\n",
              "      height: 32px;\n",
              "      padding: 0 0 0 0;\n",
              "      width: 32px;\n",
              "    }\n",
              "\n",
              "    .colab-df-convert:hover {\n",
              "      background-color: #E2EBFA;\n",
              "      box-shadow: 0px 1px 2px rgba(60, 64, 67, 0.3), 0px 1px 3px 1px rgba(60, 64, 67, 0.15);\n",
              "      fill: #174EA6;\n",
              "    }\n",
              "\n",
              "    [theme=dark] .colab-df-convert {\n",
              "      background-color: #3B4455;\n",
              "      fill: #D2E3FC;\n",
              "    }\n",
              "\n",
              "    [theme=dark] .colab-df-convert:hover {\n",
              "      background-color: #434B5C;\n",
              "      box-shadow: 0px 1px 3px 1px rgba(0, 0, 0, 0.15);\n",
              "      filter: drop-shadow(0px 1px 2px rgba(0, 0, 0, 0.3));\n",
              "      fill: #FFFFFF;\n",
              "    }\n",
              "  </style>\n",
              "\n",
              "      <script>\n",
              "        const buttonEl =\n",
              "          document.querySelector('#df-43f7def0-2dff-45a6-ae85-4eef231bd995 button.colab-df-convert');\n",
              "        buttonEl.style.display =\n",
              "          google.colab.kernel.accessAllowed ? 'block' : 'none';\n",
              "\n",
              "        async function convertToInteractive(key) {\n",
              "          const element = document.querySelector('#df-43f7def0-2dff-45a6-ae85-4eef231bd995');\n",
              "          const dataTable =\n",
              "            await google.colab.kernel.invokeFunction('convertToInteractive',\n",
              "                                                     [key], {});\n",
              "          if (!dataTable) return;\n",
              "\n",
              "          const docLinkHtml = 'Like what you see? Visit the ' +\n",
              "            '<a target=\"_blank\" href=https://colab.research.google.com/notebooks/data_table.ipynb>data table notebook</a>'\n",
              "            + ' to learn more about interactive tables.';\n",
              "          element.innerHTML = '';\n",
              "          dataTable['output_type'] = 'display_data';\n",
              "          await google.colab.output.renderOutput(dataTable, element);\n",
              "          const docLink = document.createElement('div');\n",
              "          docLink.innerHTML = docLinkHtml;\n",
              "          element.appendChild(docLink);\n",
              "        }\n",
              "      </script>\n",
              "    </div>\n",
              "  </div>\n",
              "  "
            ]
          },
          "metadata": {},
          "execution_count": 263
        }
      ]
    },
    {
      "cell_type": "markdown",
      "source": [
        "Using Scikit-Learn's Pipeline class, I am building a preprocessing pipeline. Two preprocessing phases make up the pipeline: polynomial feature creation and standard scaling."
      ],
      "metadata": {
        "id": "QkRNmFtz8wxg"
      }
    },
    {
      "cell_type": "code",
      "source": [
        "X_train_pp = preprocessing_pipe.fit_transform(X_train)\n",
        "\n",
        "X_train_pp.columns"
      ],
      "metadata": {
        "colab": {
          "base_uri": "https://localhost:8080/"
        },
        "id": "Dea3ipm0Hp9X",
        "outputId": "1ec26d31-f397-4b60-a57f-b04a45f68101"
      },
      "execution_count": null,
      "outputs": [
        {
          "output_type": "execute_result",
          "data": {
            "text/plain": [
              "Index(['mileage', 'reg_code', 'standard_colour', 'standard_make',\n",
              "       'standard_model', 'vehicle_condition', 'body_type',\n",
              "       'crossover_car_and_van', 'fuel_type_diesel', 'fuel_type_electric',\n",
              "       ...\n",
              "       'fuel_type_electric fuel_type_petrol',\n",
              "       'fuel_type_electric fuel_type_petrol_hybrid',\n",
              "       'fuel_type_electric fuel_type_petrol_plug_in_hybrid',\n",
              "       'fuel_type_electric age', 'fuel_type_petrol fuel_type_petrol_hybrid',\n",
              "       'fuel_type_petrol fuel_type_petrol_plug_in_hybrid',\n",
              "       'fuel_type_petrol age',\n",
              "       'fuel_type_petrol_hybrid fuel_type_petrol_plug_in_hybrid',\n",
              "       'fuel_type_petrol_hybrid age', 'fuel_type_petrol_plug_in_hybrid age'],\n",
              "      dtype='object', length=105)"
            ]
          },
          "metadata": {},
          "execution_count": 264
        }
      ]
    },
    {
      "cell_type": "markdown",
      "source": [
        "The above code transforms the data and assigns it to X_train_pp after applying the preprocessing pipeline 'preprocessing_pipe' to the training predictors X_train."
      ],
      "metadata": {
        "id": "Q-OVZV4B9OrH"
      }
    },
    {
      "cell_type": "code",
      "source": [
        "X_train['mileage'].mean(), X_train['mileage'].std()"
      ],
      "metadata": {
        "colab": {
          "base_uri": "https://localhost:8080/"
        },
        "id": "TZJ5hRWqNkJp",
        "outputId": "0886361f-16fd-489c-89ef-ebe63ad16082"
      },
      "execution_count": null,
      "outputs": [
        {
          "output_type": "execute_result",
          "data": {
            "text/plain": [
              "(37206.332635416285, 30744.542341025463)"
            ]
          },
          "metadata": {},
          "execution_count": 265
        }
      ]
    },
    {
      "cell_type": "code",
      "source": [
        "X_train_pp['mileage'].mean(), X_train_pp['mileage'].std()"
      ],
      "metadata": {
        "colab": {
          "base_uri": "https://localhost:8080/"
        },
        "id": "-3SOkkiHOPiO",
        "outputId": "b7626588-baa9-41c1-c8ff-49acbc29906c"
      },
      "execution_count": null,
      "outputs": [
        {
          "output_type": "execute_result",
          "data": {
            "text/plain": [
              "(-3.584912712986232e-17, 1.0000183471089559)"
            ]
          },
          "metadata": {},
          "execution_count": 266
        }
      ]
    },
    {
      "cell_type": "markdown",
      "source": [
        "The preprocessing pipeline's standard scaling phase is what causes the difference in the mean and standard deviation values between the original and preprocessed data. Data is transformed to a standard normal distribution with a mean of 0 and a standard deviation of 1 using standard scaling, which subtracts the mean and divides by the standard deviation.\n",
        "\n",
        "The'mileage' column in X_train_pp has a mean close to zero and a standard deviation of about 1, demonstrating good standardisation of the data after applying the preprocessing pipeline."
      ],
      "metadata": {
        "id": "17DcErK0-k4l"
      }
    }
  ]
}